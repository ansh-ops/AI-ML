{
  "nbformat": 4,
  "nbformat_minor": 0,
  "metadata": {
    "colab": {
      "name": "AI_projectAutoML.ipynb",
      "provenance": [],
      "collapsed_sections": [],
      "mount_file_id": "10F5hf1YakHA0ECudLbVcpABgEYV2HhWA",
      "authorship_tag": "ABX9TyMSW+o4i3VuIdERZTGPlkcE",
      "include_colab_link": true
    },
    "kernelspec": {
      "name": "python3",
      "display_name": "Python 3"
    },
    "language_info": {
      "name": "python"
    }
  },
  "cells": [
    {
      "cell_type": "markdown",
      "metadata": {
        "id": "view-in-github",
        "colab_type": "text"
      },
      "source": [
        "<a href=\"https://colab.research.google.com/github/ansh-ops/AI-ML/blob/main/AI_projectAutoML.ipynb\" target=\"_parent\"><img src=\"https://colab.research.google.com/assets/colab-badge.svg\" alt=\"Open In Colab\"/></a>"
      ]
    },
    {
      "cell_type": "code",
      "execution_count": 8,
      "metadata": {
        "colab": {
          "base_uri": "https://localhost:8080/"
        },
        "id": "reeVcPElIeFG",
        "outputId": "6f92359c-2e64-4429-944b-150265b4e91f"
      },
      "outputs": [
        {
          "output_type": "stream",
          "name": "stdout",
          "text": [
            "Requirement already satisfied: mljar-supervised in /usr/local/lib/python3.7/dist-packages (0.11.2)\n",
            "Requirement already satisfied: scikit-plot==0.3.7 in /usr/local/lib/python3.7/dist-packages (from mljar-supervised) (0.3.7)\n",
            "Requirement already satisfied: optuna>=2.7.0 in /usr/local/lib/python3.7/dist-packages (from mljar-supervised) (2.10.0)\n",
            "Requirement already satisfied: tabulate>=0.8.7 in /usr/local/lib/python3.7/dist-packages (from mljar-supervised) (0.8.9)\n",
            "Requirement already satisfied: matplotlib>=3.2.2 in /usr/local/lib/python3.7/dist-packages (from mljar-supervised) (3.2.2)\n",
            "Requirement already satisfied: typing-extensions in /usr/local/lib/python3.7/dist-packages (from mljar-supervised) (4.2.0)\n",
            "Requirement already satisfied: scikit-learn>=1.0 in /usr/local/lib/python3.7/dist-packages (from mljar-supervised) (1.0.2)\n",
            "Requirement already satisfied: markdown in /usr/local/lib/python3.7/dist-packages (from mljar-supervised) (3.3.6)\n",
            "Requirement already satisfied: wordcloud>=1.8.1 in /usr/local/lib/python3.7/dist-packages (from mljar-supervised) (1.8.1)\n",
            "Requirement already satisfied: numpy>=1.19.5 in /usr/local/lib/python3.7/dist-packages (from mljar-supervised) (1.21.6)\n",
            "Requirement already satisfied: pandas>=1.2.0 in /usr/local/lib/python3.7/dist-packages (from mljar-supervised) (1.3.5)\n",
            "Requirement already satisfied: shap==0.36.0 in /usr/local/lib/python3.7/dist-packages (from mljar-supervised) (0.36.0)\n",
            "Requirement already satisfied: seaborn>=0.11.1 in /usr/local/lib/python3.7/dist-packages (from mljar-supervised) (0.11.2)\n",
            "Requirement already satisfied: lightgbm>=3.0.0 in /usr/local/lib/python3.7/dist-packages (from mljar-supervised) (3.3.2)\n",
            "Requirement already satisfied: xgboost>=1.3.3 in /usr/local/lib/python3.7/dist-packages (from mljar-supervised) (1.6.0)\n",
            "Requirement already satisfied: catboost>=0.24.4 in /usr/local/lib/python3.7/dist-packages (from mljar-supervised) (1.0.5)\n",
            "Requirement already satisfied: scipy>=1.6.1 in /usr/local/lib/python3.7/dist-packages (from mljar-supervised) (1.7.3)\n",
            "Requirement already satisfied: dtreeviz>=1.3.3 in /usr/local/lib/python3.7/dist-packages (from mljar-supervised) (1.3.5)\n",
            "Requirement already satisfied: joblib>=1.0.1 in /usr/local/lib/python3.7/dist-packages (from mljar-supervised) (1.1.0)\n",
            "Requirement already satisfied: category-encoders>=2.2.2 in /usr/local/lib/python3.7/dist-packages (from mljar-supervised) (2.4.0)\n",
            "Requirement already satisfied: slicer in /usr/local/lib/python3.7/dist-packages (from shap==0.36.0->mljar-supervised) (0.0.7)\n",
            "Requirement already satisfied: tqdm>4.25.0 in /usr/local/lib/python3.7/dist-packages (from shap==0.36.0->mljar-supervised) (4.64.0)\n",
            "Requirement already satisfied: numba in /usr/local/lib/python3.7/dist-packages (from shap==0.36.0->mljar-supervised) (0.51.2)\n",
            "Requirement already satisfied: six in /usr/local/lib/python3.7/dist-packages (from catboost>=0.24.4->mljar-supervised) (1.15.0)\n",
            "Requirement already satisfied: graphviz in /usr/local/lib/python3.7/dist-packages (from catboost>=0.24.4->mljar-supervised) (0.10.1)\n",
            "Requirement already satisfied: plotly in /usr/local/lib/python3.7/dist-packages (from catboost>=0.24.4->mljar-supervised) (5.5.0)\n",
            "Requirement already satisfied: statsmodels>=0.9.0 in /usr/local/lib/python3.7/dist-packages (from category-encoders>=2.2.2->mljar-supervised) (0.10.2)\n",
            "Requirement already satisfied: patsy>=0.5.1 in /usr/local/lib/python3.7/dist-packages (from category-encoders>=2.2.2->mljar-supervised) (0.5.2)\n",
            "Requirement already satisfied: pytest in /usr/local/lib/python3.7/dist-packages (from dtreeviz>=1.3.3->mljar-supervised) (3.6.4)\n",
            "Requirement already satisfied: colour in /usr/local/lib/python3.7/dist-packages (from dtreeviz>=1.3.3->mljar-supervised) (0.1.5)\n",
            "Requirement already satisfied: wheel in /usr/local/lib/python3.7/dist-packages (from lightgbm>=3.0.0->mljar-supervised) (0.37.1)\n",
            "Requirement already satisfied: kiwisolver>=1.0.1 in /usr/local/lib/python3.7/dist-packages (from matplotlib>=3.2.2->mljar-supervised) (1.4.2)\n",
            "Requirement already satisfied: pyparsing!=2.0.4,!=2.1.2,!=2.1.6,>=2.0.1 in /usr/local/lib/python3.7/dist-packages (from matplotlib>=3.2.2->mljar-supervised) (3.0.8)\n",
            "Requirement already satisfied: python-dateutil>=2.1 in /usr/local/lib/python3.7/dist-packages (from matplotlib>=3.2.2->mljar-supervised) (2.8.2)\n",
            "Requirement already satisfied: cycler>=0.10 in /usr/local/lib/python3.7/dist-packages (from matplotlib>=3.2.2->mljar-supervised) (0.11.0)\n",
            "Requirement already satisfied: PyYAML in /usr/local/lib/python3.7/dist-packages (from optuna>=2.7.0->mljar-supervised) (3.13)\n",
            "Requirement already satisfied: packaging>=20.0 in /usr/local/lib/python3.7/dist-packages (from optuna>=2.7.0->mljar-supervised) (21.3)\n",
            "Requirement already satisfied: cmaes>=0.8.2 in /usr/local/lib/python3.7/dist-packages (from optuna>=2.7.0->mljar-supervised) (0.8.2)\n",
            "Requirement already satisfied: colorlog in /usr/local/lib/python3.7/dist-packages (from optuna>=2.7.0->mljar-supervised) (6.6.0)\n",
            "Requirement already satisfied: sqlalchemy>=1.1.0 in /usr/local/lib/python3.7/dist-packages (from optuna>=2.7.0->mljar-supervised) (1.4.35)\n",
            "Requirement already satisfied: alembic in /usr/local/lib/python3.7/dist-packages (from optuna>=2.7.0->mljar-supervised) (1.7.7)\n",
            "Requirement already satisfied: cliff in /usr/local/lib/python3.7/dist-packages (from optuna>=2.7.0->mljar-supervised) (3.10.1)\n",
            "Requirement already satisfied: pytz>=2017.3 in /usr/local/lib/python3.7/dist-packages (from pandas>=1.2.0->mljar-supervised) (2022.1)\n",
            "Requirement already satisfied: threadpoolctl>=2.0.0 in /usr/local/lib/python3.7/dist-packages (from scikit-learn>=1.0->mljar-supervised) (3.1.0)\n",
            "Requirement already satisfied: importlib-metadata in /usr/local/lib/python3.7/dist-packages (from sqlalchemy>=1.1.0->optuna>=2.7.0->mljar-supervised) (4.11.3)\n",
            "Requirement already satisfied: greenlet!=0.4.17 in /usr/local/lib/python3.7/dist-packages (from sqlalchemy>=1.1.0->optuna>=2.7.0->mljar-supervised) (1.1.2)\n",
            "Requirement already satisfied: pillow in /usr/local/lib/python3.7/dist-packages (from wordcloud>=1.8.1->mljar-supervised) (7.1.2)\n",
            "Requirement already satisfied: Mako in /usr/local/lib/python3.7/dist-packages (from alembic->optuna>=2.7.0->mljar-supervised) (1.2.0)\n",
            "Requirement already satisfied: importlib-resources in /usr/local/lib/python3.7/dist-packages (from alembic->optuna>=2.7.0->mljar-supervised) (5.7.1)\n",
            "Requirement already satisfied: cmd2>=1.0.0 in /usr/local/lib/python3.7/dist-packages (from cliff->optuna>=2.7.0->mljar-supervised) (2.4.1)\n",
            "Requirement already satisfied: stevedore>=2.0.1 in /usr/local/lib/python3.7/dist-packages (from cliff->optuna>=2.7.0->mljar-supervised) (3.5.0)\n",
            "Requirement already satisfied: autopage>=0.4.0 in /usr/local/lib/python3.7/dist-packages (from cliff->optuna>=2.7.0->mljar-supervised) (0.5.0)\n",
            "Requirement already satisfied: pbr!=2.1.0,>=2.0.0 in /usr/local/lib/python3.7/dist-packages (from cliff->optuna>=2.7.0->mljar-supervised) (5.8.1)\n",
            "Requirement already satisfied: PrettyTable>=0.7.2 in /usr/local/lib/python3.7/dist-packages (from cliff->optuna>=2.7.0->mljar-supervised) (3.2.0)\n",
            "Requirement already satisfied: wcwidth>=0.1.7 in /usr/local/lib/python3.7/dist-packages (from cmd2>=1.0.0->cliff->optuna>=2.7.0->mljar-supervised) (0.2.5)\n",
            "Requirement already satisfied: attrs>=16.3.0 in /usr/local/lib/python3.7/dist-packages (from cmd2>=1.0.0->cliff->optuna>=2.7.0->mljar-supervised) (21.4.0)\n",
            "Requirement already satisfied: pyperclip>=1.6 in /usr/local/lib/python3.7/dist-packages (from cmd2>=1.0.0->cliff->optuna>=2.7.0->mljar-supervised) (1.8.2)\n",
            "Requirement already satisfied: zipp>=0.5 in /usr/local/lib/python3.7/dist-packages (from importlib-metadata->sqlalchemy>=1.1.0->optuna>=2.7.0->mljar-supervised) (3.8.0)\n",
            "Requirement already satisfied: MarkupSafe>=0.9.2 in /usr/local/lib/python3.7/dist-packages (from Mako->alembic->optuna>=2.7.0->mljar-supervised) (2.0.1)\n",
            "Requirement already satisfied: setuptools in /usr/local/lib/python3.7/dist-packages (from numba->shap==0.36.0->mljar-supervised) (57.4.0)\n",
            "Requirement already satisfied: llvmlite<0.35,>=0.34.0.dev0 in /usr/local/lib/python3.7/dist-packages (from numba->shap==0.36.0->mljar-supervised) (0.34.0)\n",
            "Requirement already satisfied: tenacity>=6.2.0 in /usr/local/lib/python3.7/dist-packages (from plotly->catboost>=0.24.4->mljar-supervised) (8.0.1)\n",
            "Requirement already satisfied: atomicwrites>=1.0 in /usr/local/lib/python3.7/dist-packages (from pytest->dtreeviz>=1.3.3->mljar-supervised) (1.4.0)\n",
            "Requirement already satisfied: py>=1.5.0 in /usr/local/lib/python3.7/dist-packages (from pytest->dtreeviz>=1.3.3->mljar-supervised) (1.11.0)\n",
            "Requirement already satisfied: more-itertools>=4.0.0 in /usr/local/lib/python3.7/dist-packages (from pytest->dtreeviz>=1.3.3->mljar-supervised) (8.12.0)\n",
            "Requirement already satisfied: pluggy<0.8,>=0.5 in /usr/local/lib/python3.7/dist-packages (from pytest->dtreeviz>=1.3.3->mljar-supervised) (0.7.1)\n"
          ]
        }
      ],
      "source": [
        "pip install mljar-supervised"
      ]
    },
    {
      "cell_type": "code",
      "source": [
        "import pandas as pd\n",
        "import numpy as np\n",
        "from sklearn import datasets\n",
        "from sklearn.model_selection import train_test_split\n",
        "from supervised.automl import AutoML"
      ],
      "metadata": {
        "id": "vFPPO_A7IkVT"
      },
      "execution_count": null,
      "outputs": []
    },
    {
      "cell_type": "code",
      "source": [
        "data= pd.read_csv(\"drinking_water_potability.csv\")\n",
        "X = data.drop('Potability', axis = 1)\n",
        "y = data['Potability']"
      ],
      "metadata": {
        "id": "O244wav5IoQg"
      },
      "execution_count": 2,
      "outputs": []
    },
    {
      "cell_type": "code",
      "source": [
        "ph0 = data[data['Potability'] == 0]['ph'].mean()\n",
        "ph1 = data[data['Potability'] == 1]['ph'].mean()\n",
        "\n",
        "sulfate0 = data[data['Potability'] == 0]['Sulfate'].mean()\n",
        "sulfate1 = data[data['Potability'] == 1]['Sulfate'].mean()\n",
        "\n",
        "Trihalomethanes0 = data[data['Potability'] == 0]['Trihalomethanes'].mean()\n",
        "Trihalomethanes1 = data[data['Potability'] == 1]['Trihalomethanes'].mean()"
      ],
      "metadata": {
        "id": "wR5_YnmU22Qp"
      },
      "execution_count": 3,
      "outputs": []
    },
    {
      "cell_type": "code",
      "source": [
        "data.loc[(data['Potability'] == 0) & (data['ph'].isna()),'ph'] = ph0\n",
        "data.loc[(data['Potability'] == 1) & (data['ph'].isna()),'ph'] = ph1\n",
        "\n",
        "data.loc[(data['Potability'] == 0) & (data['Sulfate'].isna()),'Sulfate'] = sulfate0\n",
        "data.loc[(data['Potability'] == 1) & (data['Sulfate'].isna()),'Sulfate'] = sulfate1\n",
        "\n",
        "data.loc[(data['Potability'] == 0) & (data['Trihalomethanes'].isna()),'Trihalomethanes'] = Trihalomethanes0\n",
        "data.loc[(data['Potability'] == 1) & (data['Trihalomethanes'].isna()),'Trihalomethanes'] = Trihalomethanes1"
      ],
      "metadata": {
        "id": "ZDXOF3SS25hR"
      },
      "execution_count": 4,
      "outputs": []
    },
    {
      "cell_type": "code",
      "source": [
        "X_train, X_test, y_train, y_test = train_test_split(X, y, test_size=0.3)"
      ],
      "metadata": {
        "id": "P3vJS210I_PI"
      },
      "execution_count": 5,
      "outputs": []
    },
    {
      "cell_type": "code",
      "source": [
        "automl = AutoML(algorithms=[\"Decision Tree\", \"Linear\", \"Random Forest\",\"Neural Network\"],\n",
        "                total_time_limit=5*60)\n",
        "automl.fit(X_train, y_train)"
      ],
      "metadata": {
        "colab": {
          "base_uri": "https://localhost:8080/"
        },
        "id": "KI6HoJtBJ09I",
        "outputId": "8ffe53e5-6822-460f-8814-abe1548de4ee"
      },
      "execution_count": 6,
      "outputs": [
        {
          "output_type": "stream",
          "name": "stdout",
          "text": [
            "AutoML directory: AutoML_1\n",
            "The task is binary_classification with evaluation metric logloss\n",
            "AutoML will use algorithms: ['Decision Tree', 'Linear', 'Random Forest', 'Neural Network']\n",
            "AutoML will ensemble available models\n",
            "AutoML steps: ['simple_algorithms', 'default_algorithms', 'ensemble']\n",
            "* Step simple_algorithms will try to check up to 2 models\n",
            "1_DecisionTree logloss 0.638466 trained in 10.18 seconds\n",
            "2_Linear logloss 0.670297 trained in 3.79 seconds\n",
            "* Step default_algorithms will try to check up to 2 models\n",
            "3_Default_NeuralNetwork logloss 0.604236 trained in 1.56 seconds\n",
            "4_Default_RandomForest logloss 0.633751 trained in 7.71 seconds\n",
            "* Step ensemble will try to check up to 1 model\n",
            "Ensemble logloss 0.595227 trained in 0.78 seconds\n",
            "AutoML fit time: 33.01 seconds\n",
            "AutoML best model: Ensemble\n"
          ]
        },
        {
          "output_type": "execute_result",
          "data": {
            "text/plain": [
              "AutoML(algorithms=['Decision Tree', 'Linear', 'Random Forest',\n",
              "                   'Neural Network'],\n",
              "       total_time_limit=300)"
            ]
          },
          "metadata": {},
          "execution_count": 6
        }
      ]
    }
  ]
}